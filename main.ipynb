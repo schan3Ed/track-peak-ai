{
 "cells": [
  {
   "cell_type": "code",
   "execution_count": 150,
   "metadata": {},
   "outputs": [],
   "source": [
    "import pandas as pd\n",
    "import numpy as np\n",
    "import matplotlib.pyplot as plt\n",
    "from matplotlib.animation import FuncAnimation\n",
    "\n",
    "%matplotlib inline"
   ]
  },
  {
   "cell_type": "code",
   "execution_count": 151,
   "metadata": {},
   "outputs": [],
   "source": [
    "from typing import List\n",
    "\n",
    "\n",
    "def importFile(datePrefix:str, filepath:str) -> List[pd.DataFrame]:\n",
    "    frames = []\n",
    "\n",
    "    for i in range(1, 500, 1):\n",
    "        filename = f'{filepath}/{datePrefix}_{i:03n}.csv'\n",
    "        frame = pd.read_csv(filename, header=0, skiprows=[1], dtype={\"时间\": np.float64, \"通道 B\": np.float64})\n",
    "        frame.rename(columns={\"时间\": \"time\", \"通道 B\": \"voltage\"}, inplace=True)\n",
    "        frame.drop(columns=[\"通道 A\"], inplace=True)\n",
    "        frames.append(frame)\n",
    "    \n",
    "    return frames\n"
   ]
  },
  {
   "cell_type": "code",
   "execution_count": 152,
   "metadata": {},
   "outputs": [],
   "source": [
    "datePrefix = \"20240612-0001\"\n",
    "filepath = f\"data/20260612_baseline/20260612_baseline/sit2_com/{datePrefix}\"\n",
    "\n",
    "frames = importFile(datePrefix=datePrefix, filepath=filepath)"
   ]
  },
  {
   "cell_type": "code",
   "execution_count": 153,
   "metadata": {},
   "outputs": [],
   "source": [
    "plt.rcParams[\"animation.html\"] = \"jshtml\"\n",
    "plt.rcParams['figure.dpi'] = 150  \n",
    "plt.ioff()\n",
    "\n",
    "fig, ax = plt.subplots()\n",
    "line, = ax.plot(frames[0].time, frames[0].voltage)\n",
    "\n",
    "def animate(i):\n",
    "    line.set_ydata(frames[i].voltage)\n",
    "    return line,\n",
    "    \n",
    "anim = FuncAnimation(fig, animate, frames=range(1, 499, 10), blit=True)\n",
    "HTML(anim.to_html5_video())\n",
    "    \n"
   ]
  },
  {
   "cell_type": "code",
   "execution_count": 154,
   "metadata": {},
   "outputs": [],
   "source": [
    "baselineFrames = importFile(filepath=\"data/20260612_baseline/20260612_baseline/ref_com_1/baseline/\", datePrefix=\"20240612-0001\")"
   ]
  },
  {
   "cell_type": "code",
   "execution_count": null,
   "metadata": {},
   "outputs": [],
   "source": []
  },
  {
   "cell_type": "code",
   "execution_count": null,
   "metadata": {},
   "outputs": [],
   "source": []
  }
 ],
 "metadata": {
  "kernelspec": {
   "display_name": "Python 3 (ipykernel)",
   "language": "python",
   "name": "python3"
  },
  "language_info": {
   "codemirror_mode": {
    "name": "ipython",
    "version": 3
   },
   "file_extension": ".py",
   "mimetype": "text/x-python",
   "name": "python",
   "nbconvert_exporter": "python",
   "pygments_lexer": "ipython3",
   "version": "3.10.12"
  }
 },
 "nbformat": 4,
 "nbformat_minor": 2
}
